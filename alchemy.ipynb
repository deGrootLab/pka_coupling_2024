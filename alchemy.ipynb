{
 "cells": [
  {
   "cell_type": "code",
   "execution_count": 1,
   "id": "d78e9f0f",
   "metadata": {},
   "outputs": [],
   "source": [
    "import matplotlib.pyplot as plt\n",
    "import numpy as np\n",
    "\n",
    "ref_res={\n",
    "\"D\":3.90,\n",
    "\"E\":4.36,\n",
    "\"C\":8.55,\n",
    "\"EE\":4,\n",
    "\"DD\":3,\n",
    "\"CC\":8}\n",
    "\n",
    "R  = 8.314\n",
    "T  = 298.15\n",
    "B  = 1/(R*T)\n",
    "ph = np.arange(-14,14,0.1)\n",
    "\n",
    "\n",
    "def coupled_ddG(ddG0, ddG1, ddG2, res, ph=np.arange(-14,14,0.1),a=1.0):  \n",
    "    dG1 = deltaG(ddG1, res, T, ph, a)\n",
    "    dG2 = deltaG(ddG2, res, T, ph, a)    \n",
    "    \n",
    "    return (ddG0 +\\\n",
    "            (1/B)*np.log(1+np.exp(-B*dG1)) -\\\n",
    "            (1/B)*np.log(1+np.exp(-B*dG2)))\n",
    "\n",
    "def deltaG(ddG, res, T=T, ph=np.arange(-14,14,0.1),a=1.0):\n",
    "    return ddG + a*(R*T*np.log(10)*(ref_res[res]-ph))\n",
    "\n",
    "\n",
    "# for finding where dG_protein = 0\n",
    "def find_nearest(array, value):\n",
    "    array = np.asarray(array)\n",
    "    idx = (np.abs(array - value)).argmin()\n",
    "    return idx\n"
   ]
  },
  {
   "cell_type": "code",
   "execution_count": 2,
   "id": "86a3ad83",
   "metadata": {},
   "outputs": [],
   "source": [
    "#  real example D21-D40\n",
    "#\n",
    "#         (F11)    6.57   (F01)\n",
    "#      D21H + D40H  -->  D21- + D40H\n",
    "#\n",
    "#  -0.18  |                  | 2.04\n",
    "#         V                  V\n",
    "#                  9.42    \n",
    "#     D21H + D40-  -->  D21- + D40-\n",
    "#        (F10)             (F00)\n",
    "\n",
    "# D21-D83\n",
    "ddG    = [7.98,-15.58,-14.33,9.42]\n",
    "ddGerr = [0.80,0.97,0.46,0.37]\n",
    "res1 = \"D\"\n",
    "res2 = \"D\"\n",
    "\n",
    "# D21-D19\n",
    "ddG    = [-1.66,-3.17,7.11,9.42]\n",
    "ddGerr = [0.63,0.31,0.21,0.37]\n",
    "res1 = \"D\"\n",
    "res2 = \"D\"\n",
    "\n",
    "# C106-E18 (monomeric)\n",
    "ddG = [-11.21,15.37,35.39,8.54]\n",
    "ddGerr = [0.53,0.69,2.34,0.54]\n",
    "res1 = \"C\"\n",
    "res2 = \"E\"\n",
    "\n",
    "# C106-E18 (dimer)\n",
    "ddG = [1.49,31.93,49.13,20.68]\n",
    "ddGerr = [0.22,0.49,1.61,0.36]\n",
    "res1 = \"C\"\n",
    "res2 = \"E\"\n",
    "\n",
    "# D21-D40\n",
    "ddG    = [6.57,-0.18,2.04,9.42]\n",
    "ddGerr = [0.55,0.26,0.14,0.37]\n",
    "res1 = \"D\"\n",
    "res2 = \"D\""
   ]
  },
  {
   "cell_type": "code",
   "execution_count": 3,
   "id": "c4fd256f",
   "metadata": {},
   "outputs": [
    {
     "name": "stdout",
     "output_type": "stream",
     "text": [
      "pka1: 5.43 pka2: 3.88\n"
     ]
    }
   ],
   "source": [
    "# resample with errors\n",
    "ddGresample = np.random.normal(np.array(ddG)*1000, np.array(ddGerr)*1000, (100,len(ddG)))\n",
    "\n",
    "pka1 = []\n",
    "pka2 = []\n",
    "\n",
    "for d in ddGresample:\n",
    "    # compute apparent ddG(pH) due to forward and backwards\n",
    "    # add peptide deprot to get dG_protein\n",
    "    # (i.e., ddG = dGprotein - dG_peptide -> ddG + dG_peptide = dG_protein)\n",
    "    dG1_protein = coupled_ddG(d[0], d[1], d[2],res2,ph, 1.0)  + R*T*np.log(10)*(ref_res[res1]-ph)  \n",
    "    dG2_protein = coupled_ddG(d[1], d[0], d[3],res1,ph, 1.0)  + R*T*np.log(10)*(ref_res[res2]-ph)\n",
    "    dG3_protein = coupled_ddG(d[2],-d[0],-d[3],res1,ph,a=-1.0) + R*T*np.log(10)*(ref_res[res2]-ph)  \n",
    "    dG4_protein = coupled_ddG(d[3],-d[1],-d[2],res2,ph,a=-1.0) + R*T*np.log(10)*(ref_res[res1]-ph)\n",
    "\n",
    "    # find when dG_protein = 0\n",
    "    idx1 = find_nearest(dG1_protein,0)\n",
    "    idx2 = find_nearest(dG2_protein,0)\n",
    "    idx3 = find_nearest(dG3_protein,0)\n",
    "    idx4 = find_nearest(dG4_protein,0)\n",
    "    \n",
    "    pka1.append(ph[idx1])\n",
    "    pka2.append(ph[idx2])\n",
    "\n",
    "print(\"pka1: %.2f pka2: %.2f\" % (np.mean(pka1),np.mean(pka2)))\n"
   ]
  },
  {
   "cell_type": "code",
   "execution_count": null,
   "id": "2e5c9334",
   "metadata": {},
   "outputs": [],
   "source": []
  }
 ],
 "metadata": {
  "kernelspec": {
   "display_name": "Python 3 (ipykernel)",
   "language": "python",
   "name": "python3"
  },
  "language_info": {
   "codemirror_mode": {
    "name": "ipython",
    "version": 3
   },
   "file_extension": ".py",
   "mimetype": "text/x-python",
   "name": "python",
   "nbconvert_exporter": "python",
   "pygments_lexer": "ipython3",
   "version": "3.9.7"
  }
 },
 "nbformat": 4,
 "nbformat_minor": 5
}
