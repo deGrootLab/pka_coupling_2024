{
 "cells": [
  {
   "cell_type": "code",
   "execution_count": 1,
   "id": "d2069959",
   "metadata": {},
   "outputs": [],
   "source": [
    "import numpy as np\n",
    "import matplotlib.pyplot as plt\n",
    "from scipy.optimize import minimize\n",
    "\n",
    "\n",
    "def fitting(p0,x,y1,y2):\n",
    "\n",
    "    pKa1, pKa2, w = p0\n",
    "\n",
    "    Z = 1 + 10**(pKa1-x) + 10**(pKa2-x) + 10**(pKa1+pKa2-w-2*x)\n",
    "    f1 = 1/Z +  10**(pKa1-x)/Z\n",
    "    f2 = 1/Z +  10**(pKa2-x)/Z\n",
    "    \n",
    "    diff1 = np.sum(np.absolute(f1-y1))\n",
    "    diff2 = np.sum(np.absolute(f2-y2))\n",
    "        \n",
    "    return diff1 + diff2\n",
    "\n",
    "\n",
    "# for resolving protonation probabilities as a function of pKa\n",
    "def partition(pKa1,pKa2,w=0,ph=np.arange(-14,14,0.01)):\n",
    "    \n",
    "    Z = 1 + 10**(pKa1-ph) + 10**(pKa2-ph) + 10**(pKa1+pKa2-w-2*ph)\n",
    "    \n",
    "    return 1/Z, 10**(pKa1-ph)/Z, 10**(pKa2-ph)/Z, 10**(pKa1+pKa2-w-2*ph)/Z\n",
    "\n",
    "# compute macroscopic pK from microscopic\n",
    "def macro(pk1,pk2,w):\n",
    "    pka1 = pk1\n",
    "    pka2 = pk2\n",
    "    w    = w\n",
    "    \n",
    "    Ka1 = 10**(-pka1)\n",
    "    Ka2 = 10**(-pka2)\n",
    "    \n",
    "    Ka1a = 10**(-(pka1-w))\n",
    "    Ka2a = 10**(-(pka2-w))\n",
    "    return -np.log10((Ka1*Ka2)/(Ka1+Ka2)), -np.log10(Ka1a+Ka2a)\n",
    "\n"
   ]
  },
  {
   "cell_type": "code",
   "execution_count": 2,
   "id": "259b8835",
   "metadata": {},
   "outputs": [
    {
     "name": "stdout",
     "output_type": "stream",
     "text": [
      "pka1: 5.52 pka2: 3.42\n"
     ]
    },
    {
     "data": {
      "text/plain": [
       "Text(0.5, 0, 'pH')"
      ]
     },
     "execution_count": 2,
     "metadata": {},
     "output_type": "execute_result"
    },
    {
     "data": {
      "image/png": "[encoded data removed]",
      "text/plain": [
       "<Figure size 216x288 with 2 Axes>"
      ]
     },
     "metadata": {
      "needs_background": "light"
     },
     "output_type": "display_data"
    }
   ],
   "source": [
    "fig,axs = plt.subplots(2,1,figsize=(3,4),sharex=True)\n",
    "\n",
    "ph,mu1,sg1,mu2,sg2 = np.loadtxt(\"./cphmd/D21-D40.dat\",comments=[\"#\"]).T\n",
    "\n",
    "# plot protonation probability traces\n",
    "axs.flat[0].errorbar(x=ph,y=1-mu1,yerr=sg1,fmt='o',mew=0,ms=3,alpha=0.6,color='tab:blue')\n",
    "axs.flat[0].errorbar(x=ph,y=1-mu2,yerr=sg2,fmt='o',mew=0,ms=3,alpha=0.6,color='tab:orange')\n",
    "\n",
    "with np.errstate(divide='ignore'):\n",
    "    axs.flat[1].errorbar(x=ph,y=ph-np.log10(np.divide(mu1,(1-mu1),where=(1-mu1)!=0)),\n",
    "                                            fmt='o',mew=0,ms=3,alpha=0.6,color='tab:blue')\n",
    "                         \n",
    "    axs.flat[1].errorbar(x=ph,y=ph-np.log10(np.divide(mu2,(1-mu2),where=(1-mu2)!=0)),\n",
    "                                            fmt='o',mew=0,ms=3,alpha=0.6,color='tab:orange')\n",
    "\n",
    "\n",
    "# resample points assuming gaussians\n",
    "s1 = np.random.normal(mu1, sg1, size=(100, mu1.shape[0]))\n",
    "s2 = np.random.normal(mu2, sg2, size=(100, mu2.shape[0]))\n",
    "\n",
    "vals = []\n",
    "# perform fitting off the Hill/Ullmann formalism\n",
    "for pair in zip(s1,s2):\n",
    "\n",
    "    y1 = pair[0]\n",
    "    y2 = pair[1]\n",
    "    res = minimize(fitting, x0=[3,5,1], bounds=[(0,14),(0,14),(0,5.)],args=(ph,y1,y2)) #,method='Nelder-Mead')\n",
    "    \n",
    "    vals.append(res.x)\n",
    "\n",
    "# get average fitted microscopic pKas\n",
    "a,b,c,d = partition(*np.nanmean(vals,axis=0),ph=ph)\n",
    "\n",
    "pk1,pk2 = macro(*np.array([np.nanmean(vals,axis=0),np.nanstd(vals,axis=0)]).T)\n",
    "print(\"pka1: %.2f pka2: %.2f\" % (pk1[0],pk2[0]))\n",
    "\n",
    "axs.flat[0].plot(ph,1-(b+a),color='tab:blue',label=\"D21\")\n",
    "axs.flat[0].plot(ph,1-(c+a),color='tab:orange',label=\"D40\")\n",
    "\n",
    "axs.flat[1].plot(ph,ph-np.log10((b+a)/(1-(b+a))),color='tab:blue')\n",
    "axs.flat[1].plot(ph,ph-np.log10((c+a)/(1-(c+a))),color='tab:orange')\n",
    "\n",
    "axs.flat[0].legend(loc='lower left')\n",
    "axs.flat[0].set_xlim(0,8)\n",
    "axs.flat[1].set_ylim(0,8)\n",
    "axs.flat[0].set_ylabel(\"<x>\")\n",
    "axs.flat[1].set_ylabel(\"pKa\")\n",
    "axs.flat[1].set_xlabel(\"pH\")"
   ]
  },
  {
   "cell_type": "code",
   "execution_count": null,
   "id": "c9f6c5a2",
   "metadata": {},
   "outputs": [],
   "source": []
  }
 ],
 "metadata": {
  "kernelspec": {
   "display_name": "Python 3 (ipykernel)",
   "language": "python",
   "name": "python3"
  },
  "language_info": {
   "codemirror_mode": {
    "name": "ipython",
    "version": 3
   },
   "file_extension": ".py",
   "mimetype": "text/x-python",
   "name": "python",
   "nbconvert_exporter": "python",
   "pygments_lexer": "ipython3",
   "version": "3.9.7"
  }
 },
 "nbformat": 4,
 "nbformat_minor": 5
}
