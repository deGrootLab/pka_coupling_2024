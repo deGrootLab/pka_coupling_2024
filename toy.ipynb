{
 "cells": [
  {
   "cell_type": "code",
   "execution_count": 1,
   "id": "d968e0f7",
   "metadata": {},
   "outputs": [],
   "source": [
    "import numpy as np\n",
    "import matplotlib.pyplot as plt\n",
    "\n",
    "R  = 8.314\n",
    "T  = 298.15\n",
    "B  = 1/(R*T)\n",
    "ph = np.arange(-14,14,0.1)\n",
    "\n",
    "# reference pKa\n",
    "ref_res={\n",
    "    \"D\":3.90,\n",
    "    \"E\":4.36,\n",
    "    \"C\":8.55,\n",
    "    \"AA\":4,\n",
    "    \"BB\":3,\n",
    "    \"CC\":8}\n",
    "\n",
    "# for finding where dG_protein = 0\n",
    "def find_nearest(array, value):\n",
    "    array = np.asarray(array)\n",
    "    idx = (np.abs(array - value)).argmin()\n",
    "    return idx\n",
    "\n",
    "\n",
    "# for getting pka from ddG and reference\n",
    "def getpKa(ddG,res,a=1):\n",
    "    return ref_res[res] + a*ddG/(R*T*np.log(10))\n",
    "\n",
    "\n",
    "# for getting dG_protein from ddG (i.e., subtract off peptide protonation)\n",
    "def deltaG(ddG, res, T=T, ph=np.arange(-14,14,0.01),a=1.0):\n",
    "    return ddG + a*(R*T*np.log(10)*(ref_res[res]-ph))\n",
    "\n",
    "\n",
    "def coupled_ddG(ddG0, ddG1, ddG2, res, ph=np.arange(-14,14,0.01),a=1.0):    \n",
    "    dG1 = deltaG(ddG1, res, T, ph, a)\n",
    "    dG2 = deltaG(ddG2, res, T, ph, a)    \n",
    "    \n",
    "    return (ddG0 +\\\n",
    "            (1/B)*np.log(1+np.exp(-B*dG1)) -\\\n",
    "            (1/B)*np.log(1+np.exp(-B*dG2)))\n",
    "\n",
    "# for resolving protonation probabilities as a function of dG\n",
    "def partition(dG1,dG2,dG3,ph=np.arange(-14,14,0.01)):\n",
    "    \n",
    "    B = 1/(R*T)\n",
    "    mu = (B**(-1))*np.log(10)*ph\n",
    "    \n",
    "    Z = 1 + np.exp(-B*(dG1-mu))+\\\n",
    "            np.exp(-B*(dG2-mu))+\\\n",
    "            np.exp(-B*((dG1+dG3)-2*mu))\n",
    "    \n",
    "    return 1/Z, np.exp(-B*(dG1-mu))/Z, np.exp(-B*(dG2-mu))/Z, np.exp(-B*((dG1+dG3)-2*mu))/Z\n",
    "\n",
    "\n",
    "# relating microscopic and macroscopic pKa values\n",
    "def macro(pk1,pk2,w):\n",
    "    pka1 = pk1\n",
    "    pka2 = pk2\n",
    "    w    = w\n",
    "        \n",
    "    Ka1 = np.exp(-pka1)\n",
    "    Ka2 = np.exp(-pka2)\n",
    "    \n",
    "    Ka1a = np.exp(-(pka1-w))\n",
    "    Ka2a = np.exp(-(pka2-w))\n",
    "    \n",
    "    \n",
    "    return -np.log((Ka1*Ka2)/(Ka1+Ka2)), -np.log(Ka1a+Ka2a)\n"
   ]
  },
  {
   "cell_type": "code",
   "execution_count": 2,
   "id": "22825b6c",
   "metadata": {},
   "outputs": [],
   "source": [
    "#  Toy example 4\n",
    "#\n",
    "#     (F11)   -18     (F01)\n",
    "#   CH + BH  -->  C- + BH\n",
    "#\n",
    "#  8  |               | 28\n",
    "#     V               V\n",
    "#             2\n",
    "#   CH + B-  -->  C- + B-\n",
    "#    (F10)         (F00)\n",
    "\n",
    "res1=\"C\"\n",
    "res2=\"E\"\n",
    "\n",
    "ddG1 =   -18 * 1000\n",
    "ddG2 =    8 * 1000\n",
    "ddG3 =   28 * 1000\n",
    "ddG4 =    2 * 1000"
   ]
  },
  {
   "cell_type": "code",
   "execution_count": 3,
   "id": "81aec1b7",
   "metadata": {},
   "outputs": [
    {
     "name": "stdout",
     "output_type": "stream",
     "text": [
      "plain\n",
      "pKa1: 8.90, pKa2: 9.27\n",
      "\n",
      "adjust\n",
      "pKa1: 5.60, pKa2: 9.00\n"
     ]
    },
    {
     "data": {
      "image/png": "[encoded data removed]",
      "text/plain": [
       "<Figure size 216x144 with 1 Axes>"
      ]
     },
     "metadata": {
      "needs_background": "light"
     },
     "output_type": "display_data"
    }
   ],
   "source": [
    "fig, axs = plt.subplots(1,1,figsize=(3,2))\n",
    "\n",
    "# compute apparent ddG(pH) due to forward and backwards\n",
    "# add peptide deprot to get dG_protein\n",
    "# (i.e., ddG = dGprotein - dG_peptide -> ddG + dG_peptide = dG_protein)\n",
    "dG_protein1 = coupled_ddG(ddG1,ddG2,ddG3,res2,ph=ph,a=1.0) + R*T*np.log(10)*(ref_res[res1]-ph) \n",
    "dG_protein2 = coupled_ddG(ddG2,ddG1,ddG4,res1,ph=ph,a=1.0) + R*T*np.log(10)*(ref_res[res2]-ph)\n",
    "\n",
    "plt.plot(ph,dG_protein1/1000,color='tab:orange')\n",
    "plt.plot(ph,dG_protein2/1000,color='tab:blue')\n",
    "\n",
    "# find when dG_protein = 0\n",
    "idx1 = find_nearest(dG_protein1,0)\n",
    "idx2 = find_nearest(dG_protein2,0)\n",
    "\n",
    "# get corresponding pH, which will be the pKa\n",
    "pka1 = ph[idx1]\n",
    "pka2 = ph[idx2]\n",
    "\n",
    "axs.plot(pka1,0,'o',ms=8,zorder=10,color='tab:orange')\n",
    "axs.plot(pka2,0,'o',ms=8,zorder=10,color='tab:blue')\n",
    "\n",
    "axs.axhline(0,color='k')\n",
    "axs.set_xlim(0,14)\n",
    "axs.set_ylim(-40,40)\n",
    "axs.set_xlabel(\"pH\")\n",
    "axs.set_ylabel(\"dG_protein (kJ/mol)\")\n",
    "\n",
    "print(\"plain\\npKa1: %.2f, pKa2: %.2f\\n\" % (getpKa(ddG4,res=res1),\n",
    "                                  getpKa(ddG3,res=res2)))\n",
    "\n",
    "print(\"adjust\\npKa1: %.2f, pKa2: %.2f\" % (ph[idx1],\n",
    "                                  ph[idx2]))"
   ]
  },
  {
   "cell_type": "code",
   "execution_count": 4,
   "id": "3bd38fac",
   "metadata": {},
   "outputs": [
    {
     "data": {
      "text/plain": [
       "(0.0, 14.0)"
      ]
     },
     "execution_count": 4,
     "metadata": {},
     "output_type": "execute_result"
    },
    {
     "data": {
      "image/png": "[encoded data removed]",
      "text/plain": [
       "<Figure size 216x144 with 1 Axes>"
      ]
     },
     "metadata": {
      "needs_background": "light"
     },
     "output_type": "display_data"
    }
   ],
   "source": [
    "fig, axs = plt.subplots(1,1,figsize=(3,2))\n",
    "\n",
    "# get standard deprotonation free energy (i.e.dG_protein(pH=0))\n",
    "dG1 = deltaG(ddG1,res1,ph=0)\n",
    "dG2 = deltaG(ddG2,res2,ph=0)\n",
    "dG3 = deltaG(ddG3,res2,ph=0)\n",
    "dG4 = deltaG(ddG4,res1,ph=0)\n",
    "\n",
    "# utilize Hill formalism to get microstates\n",
    "a,b,c,d = partition(dG1,dG2,dG3,ph=ph)\n",
    "\n",
    "plt.plot(ph,a+c,color='tab:orange',label=\"<AH+BH> + <A-+BH>\")\n",
    "plt.plot(ph,c,color='tab:orange',ls='dashed')\n",
    "\n",
    "plt.plot(ph,a+b,color='tab:blue',label=\"<AH+BH> + <AH+B->\")\n",
    "plt.plot(ph,b,color='tab:blue',ls='dashed')\n",
    "\n",
    "plt.ylabel(\"<x>\")\n",
    "plt.xlabel(\"pH\")\n",
    "plt.legend(loc='upper center',bbox_to_anchor=(0.5,1.5))\n",
    "plt.xlim(0,14)"
   ]
  },
  {
   "cell_type": "code",
   "execution_count": null,
   "id": "e1a090e8",
   "metadata": {},
   "outputs": [],
   "source": []
  }
 ],
 "metadata": {
  "kernelspec": {
   "display_name": "Python 3 (ipykernel)",
   "language": "python",
   "name": "python3"
  },
  "language_info": {
   "codemirror_mode": {
    "name": "ipython",
    "version": 3
   },
   "file_extension": ".py",
   "mimetype": "text/x-python",
   "name": "python",
   "nbconvert_exporter": "python",
   "pygments_lexer": "ipython3",
   "version": "3.9.7"
  }
 },
 "nbformat": 4,
 "nbformat_minor": 5
}
